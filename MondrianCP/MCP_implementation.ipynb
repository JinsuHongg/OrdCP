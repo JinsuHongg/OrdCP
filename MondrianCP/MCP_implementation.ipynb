{
 "cells": [
  {
   "cell_type": "markdown",
   "id": "5cca38c4",
   "metadata": {},
   "source": [
    "# Mondrian Conformal Prediction with Class-wise Coverage Guarantees\n",
    "## 1. Overview\n",
    "This implementation focuses on Mondrian Conformal Prediction, a method that provides reliable prediction intervals while maintaining class-specific coverage guarantees. The approach ensures that predictive uncertainty is accurately quantified for each individual class.\n",
    "## 2. Methodology\n",
    "The non-conformity scores are calculated using cumulative probability summation, which provides a robust measure of prediction reliability. The method proceeds as follows:\n",
    "\n",
    "1. For each class, we compute non-conformity scores based on the cumulative probability distribution\n",
    "2. These scores maintain separate calibration for each class label\n",
    "3. The result is a prediction set that guarantees the desired coverage level within each class\n",
    "\n",
    "The non-conformity score α for an example (x, y) is computed as:\n",
    "$$\n",
    "C_i = \\sum_{k=1}^{K}  |y_{i,k} - \\hat{h}_{i,k}(x_i)|,\\; i \\in X_{calibration}\n",
    "$$\n",
    "\n",
    "## 3. Notation and Example\n",
    "#### 1) Variable Definitions\n",
    "#### Let:\n",
    "\n",
    "1. $K$ represent the total number of classes\n",
    "2. $y_{i,k}$ denote the true label for the $i$-th instance in class $k$\n",
    "3. $\\hat{h}_{i,k}$ represent our predicted probability for the $i$-th instance in class $k$\n",
    "\n",
    "#### 2) Example Illustration\n",
    "Consider a binary classification case where we represent labels in cumulative binary form:\n",
    "#### True Labels\n",
    "$y = [1, 1, 0, 0]$ represents class 2, where:\n",
    "\n",
    "- 1's indicate the classes up to and including the true class\n",
    "- 0's indicate the classes above the true class\n",
    "\n",
    "#### 3) Predicted Probabilities\n",
    "$\\hat{h} = [0.96, 0.82, 0.45, 0.15]$ represents our model's predictions, where:\n",
    "\n",
    "- Each value represents the predicted probability for the corresponding position\n",
    "- Values typically decrease as we move through the cumulative binary representation\n",
    "\n",
    "#### 4) Mathematical Representation\n",
    "For this example:\n",
    "\n",
    "- $K = 4$ (number of positions in the vector)\n",
    "- $i$ represents a single instance\n",
    "- Each position $k \\in {1,2,3,4}$ has a corresponding $y_{i,k}$ and $\\hat{h}_{i,k}$\n",
    "\n",
    "$$\n",
    "C = |1 - 0.96| + |1 - 0.82| + |0 - 0.45| + |0 - 0.15|\n",
    "$$\n"
   ]
  },
  {
   "cell_type": "code",
   "execution_count": null,
   "id": "a3fd2e5c",
   "metadata": {},
   "outputs": [],
   "source": []
  }
 ],
 "metadata": {
  "kernelspec": {
   "display_name": "ordcp",
   "language": "python",
   "name": "ordcp"
  },
  "language_info": {
   "codemirror_mode": {
    "name": "ipython",
    "version": 3
   },
   "file_extension": ".py",
   "mimetype": "text/x-python",
   "name": "python",
   "nbconvert_exporter": "python",
   "pygments_lexer": "ipython3",
   "version": "3.11.6"
  }
 },
 "nbformat": 4,
 "nbformat_minor": 5
}
