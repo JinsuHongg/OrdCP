{
 "cells": [
  {
   "cell_type": "markdown",
   "id": "21b6b01d",
   "metadata": {},
   "source": [
    "# Mondrian Conformal Prediction with Class-wise Coverage Guarantees\n",
    "## 1. Overview\n",
    "This implementation focuses on Mondrian Conformal Prediction, a method that provides reliable prediction intervals while maintaining class-specific coverage guarantees. The approach ensures that predictive uncertainty is accurately quantified for each individual class.\n",
    "## 2. Methodology\n",
    "The non-conformity scores are calculated using cumulative probability summation, which provides a robust measure of prediction reliability. The method proceeds as follows:\n",
    "\n",
    "1. For each class, we compute non-conformity scores based on the cumulative probability distribution\n",
    "2. These scores maintain separate calibration for each class label\n",
    "3. The result is a prediction set that guarantees the desired coverage level within each class\n",
    "\n",
    "The non-conformity score α for an example (x, y) is computed as:\n",
    "$$\n",
    "C_i = \\sum_{k=1}^{K}  |y_{i,k} - \\hat{h}_{i,k}(x_i)|,\\; i \\in X_{calibration}\n",
    "$$\n",
    "\n",
    "## 3. Notation and Example\n",
    "#### 1) Variable Definitions\n",
    "#### Let:\n",
    "\n",
    "1. $K$ represent the total number of classes\n",
    "2. $y_{i,k}$ denote the true label for the $i$-th instance in class $k$\n",
    "3. $\\hat{h}_{i,k}$ represent our predicted probability for the $i$-th instance in class $k$\n",
    "\n",
    "#### 2) Example Illustration\n",
    "Consider a binary classification case where we represent labels in cumulative binary form:\n",
    "#### True Labels\n",
    "$y = [1, 1, 0, 0]$ represents class 2, where:\n",
    "\n",
    "- 1's indicate the classes up to and including the true class\n",
    "- 0's indicate the classes above the true class\n",
    "\n",
    "#### 3) Predicted Probabilities\n",
    "$\\hat{h} = [0.96, 0.82, 0.45, 0.15]$ represents our model's predictions, where:\n",
    "\n",
    "- Each value represents the predicted probability for the corresponding position\n",
    "- Values typically decrease as we move through the cumulative binary representation\n",
    "\n",
    "#### 4) Mathematical Representation\n",
    "For this example:\n",
    "\n",
    "- $K = 4$ (number of positions in the vector)\n",
    "- $i$ represents a single instance\n",
    "- Each position $k \\in {1,2,3,4}$ has a corresponding $y_{i,k}$ and $\\hat{h}_{i,k}$\n",
    "\n",
    "$$\n",
    "C = |1 - 0.96| + |1 - 0.82| + |0 - 0.45| + |0 - 0.15| = 0.82\n",
    "$$\n"
   ]
  },
  {
   "cell_type": "code",
   "execution_count": 3,
   "id": "136a95dc",
   "metadata": {},
   "outputs": [],
   "source": [
    "import torch\n",
    "import torch.nn as nn"
   ]
  },
  {
   "cell_type": "code",
   "execution_count": 38,
   "id": "3ede0189",
   "metadata": {},
   "outputs": [],
   "source": [
    "m = nn.Sigmoid()\n",
    "loss = nn.BCELoss(reduction = 'mean')\n",
    "input = torch.randn(3, 3, requires_grad=True)\n",
    "target = torch.tensor([[1, 0, 0], [1, 1, 1], [0, 0, 0]], dtype = torch.float)\n",
    "output = loss(m(input), target)\n",
    "output.backward()"
   ]
  },
  {
   "cell_type": "code",
   "execution_count": 39,
   "id": "44d1a854",
   "metadata": {},
   "outputs": [
    {
     "data": {
      "text/plain": [
       "tensor([[0.0378, 0.7450, 0.3553],\n",
       "        [0.7459, 0.7854, 0.4061],\n",
       "        [0.3720, 0.6727, 0.9120]], grad_fn=<SigmoidBackward0>)"
      ]
     },
     "execution_count": 39,
     "metadata": {},
     "output_type": "execute_result"
    }
   ],
   "source": [
    "m(input)"
   ]
  },
  {
   "cell_type": "code",
   "execution_count": 40,
   "id": "6badbdce",
   "metadata": {},
   "outputs": [
    {
     "data": {
      "text/plain": [
       "tensor([[-1.4228, -0.1278, -0.4494],\n",
       "        [-0.1273, -0.1049, -0.3914],\n",
       "        [-0.4294, -0.1722, -0.0400]], grad_fn=<Log10Backward0>)"
      ]
     },
     "execution_count": 40,
     "metadata": {},
     "output_type": "execute_result"
    }
   ],
   "source": [
    "torch.log10(m(input))"
   ]
  },
  {
   "cell_type": "code",
   "execution_count": 41,
   "id": "af2a5aa7",
   "metadata": {},
   "outputs": [
    {
     "data": {
      "text/plain": [
       "tensor([[-0.0167, -0.5935, -0.1906],\n",
       "        [-0.5951, -0.6683, -0.2263],\n",
       "        [-0.2020, -0.4851, -1.0556]], grad_fn=<Log10Backward0>)"
      ]
     },
     "execution_count": 41,
     "metadata": {},
     "output_type": "execute_result"
    }
   ],
   "source": [
    "torch.log10(1-m(input))"
   ]
  },
  {
   "cell_type": "code",
   "execution_count": 44,
   "id": "35136603",
   "metadata": {},
   "outputs": [
    {
     "data": {
      "text/plain": [
       "tensor(-0.5081, grad_fn=<MeanBackward0>)"
      ]
     },
     "execution_count": 44,
     "metadata": {},
     "output_type": "execute_result"
    }
   ],
   "source": [
    "torch.mean(target*torch.log10(m(input)) + (1-target)*torch.log10(1-m(input)))"
   ]
  },
  {
   "cell_type": "code",
   "execution_count": 43,
   "id": "c68850c9",
   "metadata": {},
   "outputs": [
    {
     "data": {
      "text/plain": [
       "tensor(1.1700, grad_fn=<BinaryCrossEntropyBackward0>)"
      ]
     },
     "execution_count": 43,
     "metadata": {},
     "output_type": "execute_result"
    }
   ],
   "source": [
    "output"
   ]
  },
  {
   "cell_type": "code",
   "execution_count": null,
   "id": "33a30874",
   "metadata": {},
   "outputs": [],
   "source": [
    "# Nonconformity measure(NCM)\n",
    "# for ordinal regression\n",
    "def NCM_Cum_Prob(arr = None):\n",
    "    \n",
    "     \n",
    "        \n",
    "        "
   ]
  }
 ],
 "metadata": {
  "kernelspec": {
   "display_name": "ordcp",
   "language": "python",
   "name": "ordcp"
  },
  "language_info": {
   "codemirror_mode": {
    "name": "ipython",
    "version": 3
   },
   "file_extension": ".py",
   "mimetype": "text/x-python",
   "name": "python",
   "nbconvert_exporter": "python",
   "pygments_lexer": "ipython3",
   "version": "3.11.6"
  }
 },
 "nbformat": 4,
 "nbformat_minor": 5
}
